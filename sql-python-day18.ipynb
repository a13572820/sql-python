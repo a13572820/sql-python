{
 "cells": [
  {
   "cell_type": "markdown",
   "metadata": {},
   "source": [
    "JSON 是一種常用的輕量資料格式，常用於網路 API 資料傳遞。接下來我們將簡單介紹定義和 Python 如何讀取和寫入 .json 檔案\n",
    "\n",
    "（注意有讀寫各有兩種方式，load/loads，dump/dumps）。"
   ]
  },
  {
   "cell_type": "code",
   "execution_count": 6,
   "metadata": {},
   "outputs": [],
   "source": [
    "import json\n",
    "# dict 透過寫入後轉成 JSON 檔案格式\n",
    "data = {\n",
    "     'name': 'Jack',\n",
    "     'address': \n",
    "     {\n",
    "         'streetAddress': '21 2nd Street',\n",
    "         'city': 'New York',\n",
    "         'state': 'NY',\n",
    "         'postalCode': '10021'\n",
    "     },\n",
    "     'phoneNumber': \n",
    "     [\n",
    "         {\n",
    "           'type': 'home',\n",
    "           'number': '212 555-1234'\n",
    "         },\n",
    "         {\n",
    "           'type': 'fax',\n",
    "           'number': '646 555-4567'\n",
    "         }\n",
    "     ]\n",
    " }\n",
    "\n"
   ]
  },
  {
   "cell_type": "code",
   "execution_count": 7,
   "metadata": {},
   "outputs": [],
   "source": [
    "# 寫入 JSON 檔案\n",
    "with open('demo.json', 'w') as f:\n",
    "    json.dump(data, f)"
   ]
  },
  {
   "cell_type": "code",
   "execution_count": 8,
   "metadata": {},
   "outputs": [
    {
     "name": "stdout",
     "output_type": "stream",
     "text": [
      "{'name': 'Jack', 'address': {'streetAddress': '21 2nd Street', 'city': 'New York', 'state': 'NY', 'postalCode': '10021'}, 'phoneNumber': [{'type': 'home', 'number': '212 555-1234'}, {'type': 'fax', 'number': '646 555-4567'}]}\n"
     ]
    }
   ],
   "source": [
    "print(data)"
   ]
  },
  {
   "cell_type": "code",
   "execution_count": 9,
   "metadata": {},
   "outputs": [
    {
     "name": "stdout",
     "output_type": "stream",
     "text": [
      "{\"name\": \"Jack\", \"age\": 26}\n"
     ]
    }
   ],
   "source": [
    "#若希望將 dict 轉換成 JSON 字串可使用 dumps()：\n",
    "\n",
    "data = {\n",
    "    'name' : 'Jack',\n",
    "    'age' : 26,\n",
    "}\n",
    "\n",
    "json_str = json.dumps(data)\n",
    "\n",
    "print(json_str)"
   ]
  },
  {
   "cell_type": "code",
   "execution_count": 10,
   "metadata": {},
   "outputs": [
    {
     "name": "stdout",
     "output_type": "stream",
     "text": [
      "{'name': 'Jack', 'address': {'streetAddress': '21 2nd Street', 'city': 'New York', 'state': 'NY', 'postalCode': '10021'}, 'phoneNumber': [{'type': 'home', 'number': '212 555-1234'}, {'type': 'fax', 'number': '646 555-4567'}]}\n",
      "Jack\n"
     ]
    }
   ],
   "source": [
    "#讀取JSON檔案\n",
    "\n",
    "with open('demo.json') as f:\n",
    "    data = json.loads(f.read())\n",
    "\n",
    "print(data)\n",
    "print(data['name'])"
   ]
  },
  {
   "cell_type": "code",
   "execution_count": 11,
   "metadata": {},
   "outputs": [
    {
     "name": "stdout",
     "output_type": "stream",
     "text": [
      "{'key1': 'value', 'key2': [{'key1': 'value'}, {'key2': 'value'}]}\n"
     ]
    }
   ],
   "source": [
    "#若是希望從程式變數中讀取 JSON 字串轉為 dict，可以使用 loads()：\n",
    "\n",
    "# \"\"\" 代表保留原格式（ex. 原來的縮排）的字串\n",
    "\n",
    "json_str = \"\"\"{\n",
    "    \"key1\": \"value\",\n",
    "    \"key2\": [\n",
    "        {\n",
    "            \"key1\": \"value\"\n",
    "        },\n",
    "        {\n",
    "            \"key2\": \"value\"\n",
    "        }\n",
    "    ]\n",
    "}\n",
    "\"\"\"\n",
    "\n",
    "json_dict = json.loads(json_str)\n",
    "\n",
    "print(json_dict)"
   ]
  },
  {
   "cell_type": "code",
   "execution_count": null,
   "metadata": {},
   "outputs": [],
   "source": []
  }
 ],
 "metadata": {
  "kernelspec": {
   "display_name": "Python 3",
   "language": "python",
   "name": "python3"
  },
  "language_info": {
   "codemirror_mode": {
    "name": "ipython",
    "version": 3
   },
   "file_extension": ".py",
   "mimetype": "text/x-python",
   "name": "python",
   "nbconvert_exporter": "python",
   "pygments_lexer": "ipython3",
   "version": "3.7.1"
  }
 },
 "nbformat": 4,
 "nbformat_minor": 2
}
