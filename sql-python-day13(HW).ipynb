{
 "cells": [
  {
   "cell_type": "code",
   "execution_count": 9,
   "metadata": {},
   "outputs": [
    {
     "name": "stdout",
     "output_type": "stream",
     "text": [
      "['product_name', 'price']\n",
      "['【ifive】24hr頂級商務4.0藍牙耳機', '790']\n",
      "['HANLIN正品授權(雙耳立體聲)迷你最小 藍芽 藍牙 耳機-音樂免持聽筒-NCC認證-EGAD-04', '499']\n",
      "['【HANLIN】(立體聲)世界最小藍芽耳機-EGAD-01A', '489']\n",
      "['【ifive】24hr頂級商務4.0藍牙耳機', '790']\n",
      "['【ifive】專業車用24hr頂級商務4.0藍牙耳機', '990']\n",
      "['PS5 PULSE 3D 無線耳機組', '3080']\n",
      "['Apple原廠AirPods 無線藍牙耳機-2019新款 第2代(搭配有線充電盒)', '4090']\n",
      "['【Jabra】Elite 85t Advanced ANC™降噪真無線耳機(鈦黑)', '7890']\n",
      "['韓版黑色充電耳機防盜單肩斜背包胸包潮男推薦款', '699']\n",
      "['韓版深灰色充電耳機防盜單肩斜背包胸包潮男推薦款', '699']\n",
      "['Philips 真無線藍牙耳機 TAT1215 - 黑', '1111']\n",
      "['韓版耳機usb充電單肩斜背包胸包', '399']\n",
      "['韓版軍風迷彩耳機單肩包胸包側背包斜跨包後背包單肩斜背包潮男推薦', '399']\n",
      "['SONY WF-1000XM3 黑色 真無線 藍牙降噪耳機', '6741']\n",
      "['JLab JBuds Air 真無線藍牙耳機', '1999']\n",
      "['雷蛇Razer Hammerhead True Wireless 戰錘狂鯊 真 無線電競耳機麥克風', '2290']\n",
      "['PaMu Slide 無線藍牙耳機 (支援手機無線充電)', '3490']\n",
      "['Samsung Galaxy Buds+ 真無線藍牙耳機 (琺瑯黑)', '3990']\n",
      "['Sennheiser 森海塞爾 MOMENTUM True Wireless 2 真無線藍牙耳機 黑色', '9990']\n",
      "['HyperX Cloud Stinger 電競耳機(HX-HSCS-BK/AS)', '1680']\n"
     ]
    }
   ],
   "source": [
    "import csv\n",
    "import time\n",
    "# 當爬取的網頁為 JavaScript 網頁前端（非伺服器端）生成，需引入 selenium 套件來模擬瀏覽器載入網頁並跑完 JavaScript 程式才能取得資料\n",
    "from selenium import webdriver\n",
    "# 引入套件\n",
    "from bs4 import BeautifulSoup\n",
    "\n",
    "# ./chromedriver.exe 為 chrome 瀏覽器驅動引擎檔案位置（注意 MacOS/Linux 沒有 .exe 副檔名），也可以使用絕對路徑，例如： C:\\downloads\\chromedriver.exe\n",
    "driver = webdriver.Chrome('./chromedriver')\n",
    "# 發出網路請求\n",
    "driver.get('https://ecshweb.pchome.com.tw/search/v3.3/')\n",
    "# 選到元素後，送出查詢參數並按送出\n",
    "search_input = driver.find_elements_by_css_selector('#keyword')[0]\n",
    "search_btn = driver.find_elements_by_css_selector('#btn_search')[0]\n",
    "search_input.send_keys('耳機')\n",
    "search_btn.click()\n",
    "\n",
    "# 提交查詢後等待網頁內容載入完成\n",
    "time.sleep(10)\n",
    "# 取出網頁整頁內容\n",
    "page_content = driver.page_source\n",
    "# 將 HTML 內容轉換成 BeautifulSoup 物件，html.parser 為使用的解析器\n",
    "soup = BeautifulSoup(page_content, 'html.parser')\n",
    "# 透過 select 使用 CSS 選擇器 選取我們要選的 html 內容\n",
    "elements = soup.select('#ItemContainer .col3f')\n",
    "row_list = []\n",
    "for element in elements:\n",
    "    product_name = element.select('.prod_name a')[0].text\n",
    "    price = element.select('.price_box .price span')[0].text\n",
    "    # 將資料整理成一個 dict\n",
    "    data = {}\n",
    "    data['product_name'] = product_name\n",
    "    data['price'] = price\n",
    "    row_list.append(data)\n",
    "# CSV 檔案第一列標題會是 name, price，記得要和 dict 的 key 相同，不然會出現錯誤\n",
    "headers = ['product_name', 'price']\n",
    "# 使用檔案 with ... open 開啟 write (w) 寫入檔案模式，透過 csv 模組將資料寫入\n",
    "with open('products.csv', 'w', newline='', encoding='utf-8') as output_file:\n",
    "    dict_writer = csv.DictWriter(output_file, headers)\n",
    "    # 寫入標題\n",
    "    dict_writer.writeheader()\n",
    "    # 寫入值\n",
    "    dict_writer.writerows(row_list)\n",
    "# 使用 with ... open 開啟讀取 read (r) 檔案模式，透過 csv 模組將已經存成檔案的資料讀入\n",
    "with open('products.csv', 'r', newline='', encoding='utf-8') as input_file:\n",
    "    rows = csv.reader(input_file)\n",
    "    # 以迴圈輸出每一列，每一列是一個 list\n",
    "    for row in rows:\n",
    "        print(row)\n",
    "# 關閉瀏覽器\n",
    "driver.quit()"
   ]
  },
  {
   "cell_type": "code",
   "execution_count": null,
   "metadata": {},
   "outputs": [],
   "source": []
  }
 ],
 "metadata": {
  "kernelspec": {
   "display_name": "Python 3",
   "language": "python",
   "name": "python3"
  },
  "language_info": {
   "codemirror_mode": {
    "name": "ipython",
    "version": 3
   },
   "file_extension": ".py",
   "mimetype": "text/x-python",
   "name": "python",
   "nbconvert_exporter": "python",
   "pygments_lexer": "ipython3",
   "version": "3.7.1"
  }
 },
 "nbformat": 4,
 "nbformat_minor": 2
}
