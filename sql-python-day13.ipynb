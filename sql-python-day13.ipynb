{
 "cells": [
  {
   "cell_type": "code",
   "execution_count": 8,
   "metadata": {},
   "outputs": [
    {
     "name": "stdout",
     "output_type": "stream",
     "text": [
      "['product_name', 'price']\n",
      "['Fitbit Versa 3 智慧手錶', '7798']\n",
      "['【CASIO】復古風造型計算機腕錶-(CA-53W-1)', '599']\n",
      "['GARMIN fenix 5X Plus 行動支付音樂GPS複合式心率腕錶 (石墨灰-矽)', '28990']\n",
      "['【SEIKO精工】俐落簡約橡膠腕錶/黑(SSB327P1_M)', '6111']\n",
      "['【FOSSIL】FORRESTER CHRONO 生活探索石英計時男錶 銀X棕色皮革錶帶 46mm FS5607', '5380']\n",
      "['IS愛思 WA-01藍牙智慧手錶 通訊錄同步 簡訊通知', '388']\n",
      "['IS愛思 WA-01藍牙智慧手錶 通訊錄同步 簡訊通知', '378']\n",
      "['IS愛思 WA-01藍牙智慧手錶 通訊錄同步 簡訊通知', '388']\n",
      "['【冰雪奇緣】 安娜與艾莎 手錶/藍 (F4121)', '285']\n",
      "['【冰雪奇緣】 安娜與艾莎 手錶/粉 (F4130)', '285']\n",
      "['GARMIN Descent MK2 GPS 潛水電腦錶', '41990']\n",
      "['Haylou Solar智慧手錶台灣版', '990']\n",
      "['【Amazfit 華米】 米動手錶青春版 Lite - 曜石黑', '1695']\n",
      "['【huami 華米】Amazfit T-Rex智能手錶', '3995']\n",
      "['【Amazfit 華米】GTS 魅力版智慧手錶 - 消光黑', '2995']\n",
      "['Fitbit Versa 2 健康運動智慧手錶', '5698']\n",
      "['【Amazfit 華米】GTR 特仕版智慧手錶 - 鋁合金', '4295']\n",
      "['韓風簡約金屬紋質感手錶', '680']\n",
      "['Korea Style 簡約金屬紋質感手錶', '680']\n",
      "['About Time A1 智慧手錶(黑錶頭/黑錶帶)', '990']\n"
     ]
    }
   ],
   "source": [
    "import csv\n",
    "import time\n",
    "# 當爬取的網頁為 JavaScript 網頁前端（非伺服器端）生成，需引入 selenium 套件來模擬瀏覽器載入網頁並跑完 JavaScript 程式才能取得資料\n",
    "from selenium import webdriver\n",
    "# 引入套件\n",
    "from bs4 import BeautifulSoup\n",
    "# ./chromedriver.exe 為 chrome 瀏覽器驅動引擎檔案位置（注意 MacOS/Linux 沒有 .exe 副檔名），也可以使用絕對路徑，例如： C:\\downloads\\chromedriver.exe\n",
    "driver = webdriver.Chrome('./chromedriver')\n",
    "# 發出網路請求\n",
    "driver.get('https://ecshweb.pchome.com.tw/search/v3.3/')\n",
    "# 選到元素後，送出查詢參數並按送出\n",
    "search_input = driver.find_elements_by_css_selector('#keyword')[0]\n",
    "search_btn = driver.find_elements_by_css_selector('#btn_search')[0]\n",
    "search_input.send_keys('手錶')\n",
    "search_btn.click()\n",
    "\n",
    "# 提交查詢後等待網頁內容載入完成\n",
    "time.sleep(10)\n",
    "\n",
    "# 取出網頁整頁內容\n",
    "page_content = driver.page_source\n",
    "# 將 HTML 內容轉換成 BeautifulSoup 物件，html.parser 為使用的解析器\n",
    "soup = BeautifulSoup(page_content, 'html.parser')\n",
    "# 透過 select 使用 CSS 選擇器 選取我們要選的 html 內容\n",
    "elements = soup.select('#ItemContainer .col3f')\n",
    "row_list = []\n",
    "for element in elements:\n",
    "    product_name = element.select('.prod_name a')[0].text\n",
    "    price = element.select('.price_box .price span')[0].text\n",
    "    # 將資料整理成一個 dict\n",
    "    data = {}\n",
    "    data['product_name'] = product_name\n",
    "    data['price'] = price\n",
    "    row_list.append(data)\n",
    "# CSV 檔案第一列標題會是 name, price，記得要和 dict 的 key 相同，不然會出現錯誤\n",
    "headers = ['product_name', 'price']\n",
    "# 使用檔案 with ... open 開啟 write (w) 寫入檔案模式，透過 csv 模組將資料寫入。使用 utf-8 避免中文亂碼，並設定 newline 去除空白行\n",
    "with open('products', 'w', newline='', encoding='utf-8') as output_file:\n",
    "    dict_writer = csv.DictWriter(output_file, headers)\n",
    "    # 寫入標題\n",
    "    dict_writer.writeheader()\n",
    "    # 寫入值\n",
    "    dict_writer.writerows(row_list)\n",
    "# 使用 with ... open 開啟讀取 read (r) 檔案模式，透過 csv 模組將已經存成檔案的資料讀入。使用 utf-8 避免中文亂碼，並設定 newline 去除空白行\n",
    "with open('products', 'r', newline='', encoding='utf-8') as input_file:\n",
    "    rows = csv.reader(input_file)\n",
    "    # 以迴圈輸出每一列，每一列是一個 list\n",
    "    for row in rows:\n",
    "        print(row)\n",
    "# 關閉瀏覽器\n",
    "driver.quit()"
   ]
  },
  {
   "cell_type": "code",
   "execution_count": null,
   "metadata": {},
   "outputs": [],
   "source": []
  }
 ],
 "metadata": {
  "kernelspec": {
   "display_name": "Python 3",
   "language": "python",
   "name": "python3"
  },
  "language_info": {
   "codemirror_mode": {
    "name": "ipython",
    "version": 3
   },
   "file_extension": ".py",
   "mimetype": "text/x-python",
   "name": "python",
   "nbconvert_exporter": "python",
   "pygments_lexer": "ipython3",
   "version": "3.7.1"
  }
 },
 "nbformat": 4,
 "nbformat_minor": 2
}
